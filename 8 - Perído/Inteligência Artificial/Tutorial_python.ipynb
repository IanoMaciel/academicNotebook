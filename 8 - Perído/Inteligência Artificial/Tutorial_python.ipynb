{
  "nbformat": 4,
  "nbformat_minor": 0,
  "metadata": {
    "colab": {
      "name": "Cópia de Tutorial python.ipynb",
      "provenance": [],
      "collapsed_sections": []
    },
    "kernelspec": {
      "name": "python3",
      "display_name": "Python 3"
    },
    "language_info": {
      "name": "python"
    }
  },
  "cells": [
    {
      "cell_type": "markdown",
      "metadata": {
        "id": "oVKVTQ1wyKFx"
      },
      "source": [
        "# Conceito de Variável em Python\n",
        "\n",
        "*   O conceito de variável em Python é representado sempre por um objeto.\n",
        "*   No Python as variáveis armazenam endereços de memória e não os valores.\n",
        "*   Uma variável não tem um tipo fixo, mas sim apenas o tipo do conteúdo\n",
        "*   Para atribuir nomes as variáveis, pode-se utilizar letras, o caractere de sublinhado _ e números. \n",
        "*   Os comentários em Python são representados pelo símbolo # e colocado em cada linha."
      ]
    },
    {
      "cell_type": "code",
      "metadata": {
        "colab": {
          "base_uri": "https://localhost:8080/"
        },
        "id": "kHEEDMlbyAnV",
        "outputId": "e2ae99fa-e7b6-44c2-f157-221e9dfec8e4"
      },
      "source": [
        "'''\n",
        "valor = 10\n",
        "comentário\n",
        "'''\n",
        "\n",
        "#pi = 3.14\n",
        "\n",
        "x = [1,2,3]\n",
        "y = x\n",
        "x.append(4)\n",
        "print(y)"
      ],
      "execution_count": null,
      "outputs": [
        {
          "output_type": "stream",
          "text": [
            "[1, 2, 3, 4]\n"
          ],
          "name": "stdout"
        }
      ]
    },
    {
      "cell_type": "markdown",
      "metadata": {
        "id": "uhL_CgfNzeka"
      },
      "source": [
        "# Tipos de Dados\n",
        "\n",
        "*   Uma característica que facilita muito a vida do desenvolvedor são as conversões de tipos em Python.\n"
      ]
    },
    {
      "cell_type": "code",
      "metadata": {
        "id": "tEJ56-Hc0sd5",
        "colab": {
          "base_uri": "https://localhost:8080/"
        },
        "outputId": "585f58ac-b0d4-4043-a0a6-40a16689484d"
      },
      "source": [
        "a = float(22/5)\n",
        "b = int(4.5)\n",
        "c = int(3.9)\n",
        "d = int(0xff563)\n",
        "e = float(int(3.9))\n",
        "f = int(float(3.9))\n",
        "g = int(float(3))\n",
        "h = round(3.9)\n",
        "i = round(3)\n",
        "j = int(round(3.9))\n",
        "print(a,b,c,d,e,f,g,h,i,j)"
      ],
      "execution_count": null,
      "outputs": [
        {
          "output_type": "stream",
          "text": [
            "4.4 4 3 1045859 3.0 3 3 4 3 4\n"
          ],
          "name": "stdout"
        }
      ]
    },
    {
      "cell_type": "markdown",
      "metadata": {
        "id": "wBUfPjSS04Zn"
      },
      "source": [
        "# Inteiros\n",
        "Para a declaração de números inteiros.\n",
        "\n",
        "# Float\n",
        "Representa números reais e que possuem sinal de expoente (e ou E).\n",
        "\n",
        "# Bool\n",
        "Os valores do tipo bool podem representar dois valores completamente distintos: True (igual ao int 1) e False (igual ao int 0) para, respectivamente, verdadeiro e falso. Exemplo: a = True e b = False.\n",
        "\n",
        "# None Type\n",
        "NoneType é o tipo de None, uma constante embutida do Python que, assim como True e False, e é frequentemente utilizada para representar a ausência de um valor, similar ao null na linguagem C e derivadas. Exemplo: a = None (o mesmo que null em Java).\n",
        "\n",
        "# String\n",
        "Para atribuirmos a uma variável uma referência do tipo string, basta que coloquemos entre aspas simples, duplas ou triplas."
      ]
    },
    {
      "cell_type": "code",
      "metadata": {
        "colab": {
          "base_uri": "https://localhost:8080/"
        },
        "id": "FEwBqUFJ1Rcn",
        "outputId": "5c9d98c2-8db1-4754-a9c8-e1a85bc03ef3"
      },
      "source": [
        "#Strings\n",
        "a = 'Isso é uma String com aspas Simples'\n",
        "b = \"Isso é uma String com aspas Duplas\"\n",
        "c = \"\"\"Isso é Uma String com aspas Triplas\"\"\"\n",
        "print(a + \"\\n\" + b + \"\\n\" + c)"
      ],
      "execution_count": null,
      "outputs": [
        {
          "output_type": "stream",
          "text": [
            "Isso é uma String com aspas Simples\n",
            "Isso é uma String com aspas Duplas\n",
            "Isso é Uma String com aspas Triplas\n"
          ],
          "name": "stdout"
        }
      ]
    },
    {
      "cell_type": "markdown",
      "metadata": {
        "id": "bVk4wtiS1WP5"
      },
      "source": [
        "# Métodos embutidos nos objetos de Strings\n"
      ]
    },
    {
      "cell_type": "code",
      "metadata": {
        "colab": {
          "base_uri": "https://localhost:8080/"
        },
        "id": "w2FUy4SG3WM_",
        "outputId": "f71cf1ee-cc34-44f9-daea-509f2fbac3ba"
      },
      "source": [
        "meu_nome = \"Edson Silva\"\n",
        "meu_nick = 'Edson'\n",
        "print(\"Nome: %s, Nick: %s\" % (meu_nome.upper(), meu_nick))\n",
        "print(\"Meu nome começa com a letra \", meu_nome[0])\n",
        "print(\"Meu nome começa com a letra \", meu_nome[0].lower())\n",
        "print(\"Meu sobrenome nome é \", meu_nome[6:])"
      ],
      "execution_count": null,
      "outputs": [
        {
          "output_type": "stream",
          "text": [
            "Nome: EDSON SILVA, Nick: Edson\n",
            "Meu nome começa com a letra  E\n",
            "Meu nome começa com a letra  e\n",
            "Meu sobrenome nome é  Silva\n"
          ],
          "name": "stdout"
        }
      ]
    },
    {
      "cell_type": "markdown",
      "metadata": {
        "id": "uOtZ4Y8p5UUq"
      },
      "source": [
        "# Entrada de Dados\n",
        "A leitura de dados do teclado é feita através da função input"
      ]
    },
    {
      "cell_type": "code",
      "metadata": {
        "colab": {
          "base_uri": "https://localhost:8080/"
        },
        "id": "PtSS4ZHh53vG",
        "outputId": "f9bd2f73-ca5a-4154-d96c-d982f313cba5"
      },
      "source": [
        "nome = input(\"Digite seu nome: \")\n",
        "idade = input(\"Digite sua idade: \")\n",
        "\n",
        "print(\"Nome:\" + nome + \"\\n\" + \"Idade: %s\" % (idade))"
      ],
      "execution_count": null,
      "outputs": [
        {
          "output_type": "stream",
          "text": [
            "Digite seu nome: João\n",
            "Digite sua idade: 20\n",
            "Nome:João\n",
            "Idade: 20\n"
          ],
          "name": "stdout"
        }
      ]
    },
    {
      "cell_type": "markdown",
      "metadata": {
        "id": "1DpugGlZ7g0z"
      },
      "source": [
        "# Comandos de Decisão\n",
        "IF, ELIF, ELSE\n",
        "\n",
        "Python não usamos as chaves {} para iniciar e finalizar um bloco de instruções. Para que você delimite onde cada bloco começa e acaba, basta identar o código."
      ]
    },
    {
      "cell_type": "code",
      "metadata": {
        "colab": {
          "base_uri": "https://localhost:8080/"
        },
        "id": "_UIYMqoM7nXa",
        "outputId": "5698cac3-c78b-4c01-a90f-2fd809a470f2"
      },
      "source": [
        "dados = int(input(\"Você tem quantos anos? \"))\n",
        "\n",
        "if dados == 18:\n",
        "  print(\"Você tem 18 anos\")\n",
        "elif dados > 18:\n",
        "  print(\"Você tem mais de 18 anos\")\n",
        "else:\n",
        "  print(\"Você é menor de idade\")"
      ],
      "execution_count": null,
      "outputs": [
        {
          "output_type": "stream",
          "text": [
            "Você tem quantos anos? 10\n",
            "Você é menor de idade\n"
          ],
          "name": "stdout"
        }
      ]
    },
    {
      "cell_type": "markdown",
      "metadata": {
        "id": "BHYUNg278vx9"
      },
      "source": [
        "# Switch Case\n",
        "Outra forma de utilizar o if, elif e else, é implementando-o como uma estrutura switch, onde cada elif vai ter um case dentro do switch."
      ]
    },
    {
      "cell_type": "code",
      "metadata": {
        "id": "x8vLUWSt9Inl"
      },
      "source": [
        "var1 = int(input(\"Digite um Número para var1 \"))\n",
        "var2 = int(input(\"Digite um Número para var2 \"))\n",
        "if var1 == 1:\n",
        "  print(\"Número var1 igual a 1\")\n",
        "elif var1 == 2 or var2 == 3:\n",
        "  print(\"var1 diferente de 1 ou var2 diferente de 2\")\n",
        "elif var1 >= 1000 or var2 <= -1000:\n",
        "  print(\"var1 maior que 1000 ou var2 menor que -1000\")\n",
        "else:\n",
        "  print(\"nenhuma das alternativas anteriores\")"
      ],
      "execution_count": null,
      "outputs": []
    },
    {
      "cell_type": "markdown",
      "metadata": {
        "id": "gPvbrOCV9cIk"
      },
      "source": [
        "# Função RANGE()\n",
        "Existe também a função range(start, stop, step), que retorna um array, ou seja, elementos que são representados em uma sequência."
      ]
    },
    {
      "cell_type": "code",
      "metadata": {
        "colab": {
          "base_uri": "https://localhost:8080/"
        },
        "id": "Q1y8Alp79lvj",
        "outputId": "21a1f3e4-2cdb-413f-b617-a7f66fbadd68"
      },
      "source": [
        "print(list(range(10))) # [0, 1, 2, 3, 4, 5, 6, 7, 8, 9]\n",
        "print(list(range(5, 10))) # [5, 6, 7, 8, 9]\n",
        "print(list(range(10, 0, -1))) # [10, 9, 8, 7, 6, 5, 4, 3, 2, 1]\n",
        "i=int(input(\"Digite um Número\"))\n",
        "if i in range(0,10):\n",
        "  print(\"Está Contido\")\n",
        "else:\n",
        "  print(\"Não está Contido\")"
      ],
      "execution_count": null,
      "outputs": [
        {
          "output_type": "stream",
          "text": [
            "[0, 1, 2, 3, 4, 5, 6, 7, 8, 9]\n",
            "[5, 6, 7, 8, 9]\n",
            "[10, 9, 8, 7, 6, 5, 4, 3, 2, 1]\n",
            "Digite um Número10\n",
            "Não está Contido\n"
          ],
          "name": "stdout"
        }
      ]
    },
    {
      "cell_type": "markdown",
      "metadata": {
        "id": "AseBE6_a_tUT"
      },
      "source": [
        "# Laço de Repetição FOR\n"
      ]
    },
    {
      "cell_type": "code",
      "metadata": {
        "colab": {
          "base_uri": "https://localhost:8080/"
        },
        "id": "9umxTokC_2M-",
        "outputId": "a4e56678-4ae3-4db0-d404-f1e3ef720603"
      },
      "source": [
        "list_fruta = [ \"banana\", \"maca \", \"uva\" ]\n",
        "for i, fruta in enumerate(list_fruta):\n",
        "  print (\"Fruta : \", fruta, i)\n",
        "  print(\"------------------------------\")\n",
        "for i in range(0,10): #(Inclui o Zero, NÃO INCLUI O 10)\n",
        "  print (\"i = \" + str( i ))\n",
        "  print(\"------------------------------\")\n",
        "for i in range(0,10):\n",
        "  print ('Não realizado1')\n",
        "  if i == 0:\n",
        "    break\n",
        "print ('Realizado')"
      ],
      "execution_count": null,
      "outputs": [
        {
          "output_type": "stream",
          "text": [
            "Fruta :  banana 0\n",
            "------------------------------\n",
            "Fruta :  maca  1\n",
            "------------------------------\n",
            "Fruta :  uva 2\n",
            "------------------------------\n",
            "i = 0\n",
            "------------------------------\n",
            "i = 1\n",
            "------------------------------\n",
            "i = 2\n",
            "------------------------------\n",
            "i = 3\n",
            "------------------------------\n",
            "i = 4\n",
            "------------------------------\n",
            "i = 5\n",
            "------------------------------\n",
            "i = 6\n",
            "------------------------------\n",
            "i = 7\n",
            "------------------------------\n",
            "i = 8\n",
            "------------------------------\n",
            "i = 9\n",
            "------------------------------\n",
            "Não realizado1\n",
            "Realizado\n"
          ],
          "name": "stdout"
        }
      ]
    },
    {
      "cell_type": "markdown",
      "metadata": {
        "id": "zGebzMamA3l9"
      },
      "source": [
        "# Laços de repetição WHILE"
      ]
    },
    {
      "cell_type": "code",
      "metadata": {
        "colab": {
          "base_uri": "https://localhost:8080/"
        },
        "id": "cXtWIxABA_Cz",
        "outputId": "3d54ea3d-149c-4aae-d3da-0917ae177fb2"
      },
      "source": [
        "i = 0\n",
        "while i < 10:\n",
        "  print (\"i = \", i)\n",
        "  i += 1\n",
        "\n",
        "#while True:\n",
        "#  pass"
      ],
      "execution_count": null,
      "outputs": [
        {
          "output_type": "stream",
          "text": [
            "i =  0\n",
            "i =  1\n",
            "i =  2\n",
            "i =  3\n",
            "i =  4\n",
            "i =  5\n",
            "i =  6\n",
            "i =  7\n",
            "i =  8\n",
            "i =  9\n",
            "teste\n"
          ],
          "name": "stdout"
        }
      ]
    },
    {
      "cell_type": "markdown",
      "metadata": {
        "id": "I_0B19akEvKX"
      },
      "source": [
        "# Exceções\n",
        "As exceções podem ser tratadas utilizando o recurso do try...catch"
      ]
    },
    {
      "cell_type": "code",
      "metadata": {
        "colab": {
          "base_uri": "https://localhost:8080/"
        },
        "id": "2JKAJFOLE1ED",
        "outputId": "7a13eb2d-d041-47a0-8778-68aae0f6e3e9"
      },
      "source": [
        "try:\n",
        "  print(1 + 'st try')\n",
        "except:\n",
        "   print(\"Isto é uma exceção\")"
      ],
      "execution_count": null,
      "outputs": [
        {
          "output_type": "stream",
          "text": [
            "Isto é uma exceção\n"
          ],
          "name": "stdout"
        }
      ]
    },
    {
      "cell_type": "markdown",
      "metadata": {
        "id": "XPsEgRIcFEYG"
      },
      "source": [
        "# Listas\n",
        "Uma lista é um conjunto de valores indexados por um número inteiro chamado de índice, que se inicia em zero.\n",
        "\n",
        "Os elementos contidos em uma lista podem ser de qualquer tipo, até mesmo outras listas, e não precisam ser todos do mesmo tipo. Uma lista é delimitada por colchetes e seus elementos separados por vírgulas."
      ]
    },
    {
      "cell_type": "code",
      "metadata": {
        "colab": {
          "base_uri": "https://localhost:8080/"
        },
        "id": "JO_co-h_FQVW",
        "outputId": "8b7ab4f5-a1ac-4ee0-cc5a-25d917576e4b"
      },
      "source": [
        "lista = [1, 2, 3]\n",
        "print (\"Tamanho de lista:\", len(lista))\n",
        "lista[0]=9\n",
        "\n",
        "print(\"-----------\")\n",
        "for i in range(len(lista)):\n",
        "  print(lista[i])\n",
        "\n",
        "print(\"-----------\")\n",
        "for i, x in enumerate(lista):\n",
        "  print(\"index: %s -> value: %s\" %(i,x))"
      ],
      "execution_count": null,
      "outputs": [
        {
          "output_type": "stream",
          "text": [
            "Tamanho de lista: 3\n",
            "-----------\n",
            "9\n",
            "2\n",
            "3\n",
            "-----------\n",
            "index: 0 -> value: 9\n",
            "index: 1 -> value: 2\n",
            "index: 2 -> value: 3\n"
          ],
          "name": "stdout"
        }
      ]
    },
    {
      "cell_type": "markdown",
      "metadata": {
        "id": "1LsfziVsHELq"
      },
      "source": [
        "# Executando listas"
      ]
    },
    {
      "cell_type": "code",
      "metadata": {
        "colab": {
          "base_uri": "https://localhost:8080/"
        },
        "id": "ZtCX0Hs-HHLq",
        "outputId": "c8a3bfc9-0cbe-48ed-f193-001984435780"
      },
      "source": [
        "lista = [1, 2, 3]\n",
        "print(lista[0])\n",
        "print(lista[1])\n",
        "print(lista[-1])\n",
        "print(lista[-2])\n",
        "print(lista[0:2])\n",
        "print(lista[:2])\n",
        "print(lista[1:])"
      ],
      "execution_count": null,
      "outputs": [
        {
          "output_type": "stream",
          "text": [
            "1\n",
            "2\n",
            "3\n",
            "2\n",
            "[1, 2]\n",
            "[1, 2]\n",
            "[2, 3]\n"
          ],
          "name": "stdout"
        }
      ]
    },
    {
      "cell_type": "markdown",
      "metadata": {
        "id": "IIbrysAvHS4T"
      },
      "source": [
        "# Ordenação"
      ]
    },
    {
      "cell_type": "code",
      "metadata": {
        "colab": {
          "base_uri": "https://localhost:8080/"
        },
        "id": "cU6g_RjVHTGh",
        "outputId": "72559e0c-c8e8-4aaa-bc35-30e1cfbed6ec"
      },
      "source": [
        "frutas=['laranja','banana','abacaxi']\n",
        "\n",
        "frutas.sort()\n",
        "\n",
        "print(frutas)\n",
        "\n",
        "frutas[0]='framboesa';\n",
        "\n",
        "for item in frutas:\n",
        "  print(item.capitalize())"
      ],
      "execution_count": null,
      "outputs": [
        {
          "output_type": "stream",
          "text": [
            "['abacaxi', 'banana', 'laranja']\n",
            "Framboesa\n",
            "Banana\n",
            "Laranja\n"
          ],
          "name": "stdout"
        }
      ]
    },
    {
      "cell_type": "markdown",
      "metadata": {
        "id": "6bhTkLTiHlf6"
      },
      "source": [
        "# Função append() e remove()"
      ]
    },
    {
      "cell_type": "code",
      "metadata": {
        "colab": {
          "base_uri": "https://localhost:8080/"
        },
        "id": "_8NAOA_7HvEH",
        "outputId": "0171dc0b-e0fd-47c2-e55f-6241d526ce15"
      },
      "source": [
        "convidados = [] #define uma lista vazia\n",
        "convidados.append('Exemplo 1')\n",
        "convidados.append('Exemplo 2')\n",
        "convidados.append('Exemplo 3')\n",
        "convidados.append('Exemplo 4')\n",
        "\n",
        "print(\"Tenho \", len(convidados),\" Convidados\")\n",
        "convidados.sort()\n",
        "\n",
        "print(\"Sao eles:\")\n",
        "print(convidados)\n",
        "print(\"O primeiro convidado é o \",convidados[0])\n",
        "\n",
        "convidados.remove(\"Exemplo 4\"); #aqui tiramos o Exemplo 4 da lista\n",
        "print(\"Agora tenho somente \", len(convidados),\" Convidados\")\n",
        "print(\"São eles:\")\n",
        "for convidado in convidados:\n",
        "  print(convidado)"
      ],
      "execution_count": null,
      "outputs": [
        {
          "output_type": "stream",
          "text": [
            "Tenho  4  Convidados\n",
            "Sao eles:\n",
            "['Exemplo 1', 'Exemplo 2', 'Exemplo 3', 'Exemplo 4']\n",
            "O primeiro convidado é o  Exemplo 1\n",
            "Agora tenho somente  3  Convidados\n",
            "São eles:\n",
            "Exemplo 1\n",
            "Exemplo 2\n",
            "Exemplo 3\n"
          ],
          "name": "stdout"
        }
      ]
    },
    {
      "cell_type": "markdown",
      "metadata": {
        "id": "7NuG8fTLKaYJ"
      },
      "source": [
        "# Tuplas\n",
        "Até agora foram vistos dois tipos compostos: strings, que são compostos de caracteres; e listas, que são compostas de elementos de qualquer tipo. Uma das diferenças que notamos é que os elementos de uma lista podem ser modificados, mas os caracteres em uma string não. Em outras palavras, strings são imutáveis e listas são mutáveis.\n",
        "\n",
        "Há outro tipo em Python chamado tupla (tuple), que é similar a uma lista, exceto por ser imutável. Sintaticamente, uma tupla é uma lista de valores separados por vírgulas e com aspas simples"
      ]
    },
    {
      "cell_type": "code",
      "metadata": {
        "colab": {
          "base_uri": "https://localhost:8080/"
        },
        "id": "I5YgDwaQ5dct",
        "outputId": "4adbe1d9-a7a6-4c90-caaa-e7662e9f02fb"
      },
      "source": [
        "frutas=('laranja','banana','abacaxi')\n",
        "\n",
        "print(frutas)\n",
        "#frutas[0]='framboesa';\n",
        "for item in frutas:\n",
        "  print (item.capitalize())"
      ],
      "execution_count": null,
      "outputs": [
        {
          "output_type": "stream",
          "text": [
            "('laranja', 'banana', 'abacaxi')\n",
            "Laranja\n",
            "Banana\n",
            "Abacaxi\n"
          ],
          "name": "stdout"
        }
      ]
    },
    {
      "cell_type": "markdown",
      "metadata": {
        "id": "G---bH197Lga"
      },
      "source": [
        "# Dicionários\n",
        "Os dicionários em Python são estruturas de dados que permitem “traduzir” uma chave para um valor, ou seja, são estruturas de dados que implementam mapeamentos.\n",
        "\n",
        "Um mapeamento é uma coleção de associações entre pares de valores, onde o primeiro elemento do par é chamado de chave e o outro de conteúdo. De certa forma, o mapeamento é uma generalização utilizada para acessar os dados das listas pelas suas chaves que funcionariam como índices, contudo estas chaves necessitam ser imutáveis."
      ]
    },
    {
      "cell_type": "code",
      "metadata": {
        "colab": {
          "base_uri": "https://localhost:8080/"
        },
        "id": "e6_pi51S7hWF",
        "outputId": "da15f96f-3c45-4a93-f9e4-c54554b41a99"
      },
      "source": [
        "veiculo = {}\n",
        "veiculo['marca'] = 'Puma'\n",
        "veiculo['modelo'] = 'GTB'\n",
        "veiculo['ano'] = 1978\n",
        "print(veiculo[\"modelo\"])\n",
        "\n",
        "dicionario = {\"chave\":\"17,532\",\"chave2\": \"17,365\", \"chave3\": \"10\" }\n",
        "print(dicionario[\"chave3\"]) #imprime valor (17,532)"
      ],
      "execution_count": null,
      "outputs": [
        {
          "output_type": "stream",
          "text": [
            "GTB\n",
            "10\n"
          ],
          "name": "stdout"
        }
      ]
    },
    {
      "cell_type": "markdown",
      "metadata": {
        "id": "mlM38Uxz8WJS"
      },
      "source": [
        "# Matriz com Listas\n",
        "Em Python o conceito de arrays multidimensionais não existe. \n",
        "O que existe é uma alternativa, que são os arrays encadeados, ou seja, cada elemento do array corresponde a outro array, ou como uma list de list em Java."
      ]
    },
    {
      "cell_type": "code",
      "metadata": {
        "colab": {
          "base_uri": "https://localhost:8080/"
        },
        "id": "w2moCBkb8gpu",
        "outputId": "967b84d2-c808-4628-8209-6095caae6dd4"
      },
      "source": [
        " #Criando uma matriz de 5x5 inicializada com j(indice)\n",
        "lin=5\n",
        "col=5\n",
        "matriz=[]\n",
        "for i in range(0,lin):\n",
        "  linha=[]\n",
        "  for j in range(0,col):\n",
        "    linha.append(j)\n",
        "    matriz.append(linha)\n",
        "\n",
        "#varrendo a matriz\n",
        "for i in range(0,len(matriz)):\n",
        "  for j in range(0,len(matriz[0])):\n",
        "    print(matriz[i][j])\n",
        "\n",
        "#print(matriz)"
      ],
      "execution_count": null,
      "outputs": [
        {
          "output_type": "stream",
          "text": [
            "0\n",
            "1\n",
            "2\n",
            "3\n",
            "4\n",
            "0\n",
            "1\n",
            "2\n",
            "3\n",
            "4\n",
            "0\n",
            "1\n",
            "2\n",
            "3\n",
            "4\n",
            "0\n",
            "1\n",
            "2\n",
            "3\n",
            "4\n",
            "0\n",
            "1\n",
            "2\n",
            "3\n",
            "4\n",
            "0\n",
            "1\n",
            "2\n",
            "3\n",
            "4\n",
            "0\n",
            "1\n",
            "2\n",
            "3\n",
            "4\n",
            "0\n",
            "1\n",
            "2\n",
            "3\n",
            "4\n",
            "0\n",
            "1\n",
            "2\n",
            "3\n",
            "4\n",
            "0\n",
            "1\n",
            "2\n",
            "3\n",
            "4\n",
            "0\n",
            "1\n",
            "2\n",
            "3\n",
            "4\n",
            "0\n",
            "1\n",
            "2\n",
            "3\n",
            "4\n",
            "0\n",
            "1\n",
            "2\n",
            "3\n",
            "4\n",
            "0\n",
            "1\n",
            "2\n",
            "3\n",
            "4\n",
            "0\n",
            "1\n",
            "2\n",
            "3\n",
            "4\n",
            "0\n",
            "1\n",
            "2\n",
            "3\n",
            "4\n",
            "0\n",
            "1\n",
            "2\n",
            "3\n",
            "4\n",
            "0\n",
            "1\n",
            "2\n",
            "3\n",
            "4\n",
            "0\n",
            "1\n",
            "2\n",
            "3\n",
            "4\n",
            "0\n",
            "1\n",
            "2\n",
            "3\n",
            "4\n",
            "0\n",
            "1\n",
            "2\n",
            "3\n",
            "4\n",
            "0\n",
            "1\n",
            "2\n",
            "3\n",
            "4\n",
            "0\n",
            "1\n",
            "2\n",
            "3\n",
            "4\n",
            "0\n",
            "1\n",
            "2\n",
            "3\n",
            "4\n",
            "0\n",
            "1\n",
            "2\n",
            "3\n",
            "4\n"
          ],
          "name": "stdout"
        }
      ]
    },
    {
      "cell_type": "markdown",
      "metadata": {
        "id": "coWAuFvU-fvi"
      },
      "source": [
        "# Funções\n",
        "Assim como em outras linguagens, uma função pode receber alguns parâmetros e devolver um resultado. A sintaxe inicia-se com a palavra *def*, seguida do nome da função e dos parênteses que podem conter seus parâmetros."
      ]
    },
    {
      "cell_type": "code",
      "metadata": {
        "colab": {
          "base_uri": "https://localhost:8080/"
        },
        "id": "zJb4kAPK_G_y",
        "outputId": "df606aa3-1733-4e1a-9f82-1d155ab8077a"
      },
      "source": [
        "def fib(n):  # return Fibonacci series up to n\n",
        "    \"\"\"Return a list containing the Fibonacci series up to n.\"\"\"\n",
        "    result = []\n",
        "    a, b = 0, 1\n",
        "    while a < n:\n",
        "        result.append(a)    # see below\n",
        "        a, b = b, a+b\n",
        "    return result, a\n",
        "\n",
        "# Now call the function we just defined:\n",
        "fib(2000)"
      ],
      "execution_count": null,
      "outputs": [
        {
          "output_type": "execute_result",
          "data": {
            "text/plain": [
              "([0, 1, 1, 2, 3, 5, 8, 13, 21, 34, 55, 89, 144, 233, 377, 610, 987, 1597],\n",
              " 2584)"
            ]
          },
          "metadata": {
            "tags": []
          },
          "execution_count": 47
        }
      ]
    },
    {
      "cell_type": "markdown",
      "metadata": {
        "id": "QEkyN9J_yQ6A"
      },
      "source": [
        "# Classes\n"
      ]
    },
    {
      "cell_type": "code",
      "metadata": {
        "id": "pYXiNbjvy4uO",
        "colab": {
          "base_uri": "https://localhost:8080/"
        },
        "outputId": "3cbea6fa-eb68-42c8-8430-b7ae527334f4"
      },
      "source": [
        "class Pessoa:\n",
        "    def __init__(self, nome='', idade=0):\n",
        "        self.nome = nome\n",
        "        self.idade = idade\n",
        "\n",
        "    def setNome(self, nome):\n",
        "        self.nome = nome\n",
        "\n",
        "    def setIdade(self, idade):\n",
        "        self.idade = idade\n",
        "\n",
        "    def getNome(self):\n",
        "        return self.nome\n",
        "\n",
        "    def getIdade(self):\n",
        "        return self.idade\n",
        "\n",
        "if __name__ == \"__main__\":\n",
        "  pessoa = Pessoa()\n",
        "\n",
        "  pessoa.setNome(\"Edson\")\n",
        "\n",
        "  print(pessoa.nome)"
      ],
      "execution_count": null,
      "outputs": [
        {
          "output_type": "stream",
          "text": [
            "Edson\n"
          ],
          "name": "stdout"
        }
      ]
    },
    {
      "cell_type": "markdown",
      "metadata": {
        "id": "4gTww6Oyz6jn"
      },
      "source": [
        "# Exercício\n",
        "\n",
        "Classe Bomba de Combustível: Faça um programa completo utilizando classes e métodos que:\n",
        "Possua uma classe chamada bombaCombustível, com no mínimo esses atributos:\n",
        "\n",
        "\n",
        "*   **tipoCombustivel**\n",
        "*   **valorLitro**\n",
        "*   **quantidadeCombustivel**\n",
        "\n",
        "Possua no mínimo esses métodos:\n",
        "\n",
        "*   **abastecerPorValor( )** – método onde é informado o valor a ser abastecido e mostra a quantidade de litros que foi colocada no veículo\n",
        "*   **abastecerPorLitro( )** – método onde é informado a quantidade em litros de combustível e mostra o valor a ser pago pelo cliente.\n",
        "*   **alterarValor( )** – altera o valor do litro do combustível.\n",
        "*   **alterarCombustivel( )** – altera o tipo do combustível.\n",
        "*   **alterarQuantidadeCombustivel( )** – altera a quantidade de combustível restante na bomba.\n",
        "\n",
        "OBS: Sempre que acontecer um abastecimento é necessário atualizar a quantidade de combustível total na bomba."
      ]
    }
  ]
}